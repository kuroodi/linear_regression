{
 "cells": [
  {
   "cell_type": "markdown",
   "metadata": {},
   "source": [
    "# Linear Regression\n",
    "\n",
    "Linear regression tries to predict an output based on linear transformations of a given input data point (much like a weighted sum).\n",
    "\n",
    "$y = \\theta_{0} + \\theta_{1}x_{1} + \\theta_{2}x_{2} + ... + + \\theta_{n}x_{n}$\n",
    "\n",
    "In the above equation, **y** is the predicted output and the **x's** are the input feature values. The parameters of linear regression are the $\\theta s$ that determine the best fit line for the given data set.\n",
    "\n",
    "Lets start off by first defining a cost function. The cost function is a measure of how good the model is at predicting the output. Essetially, the cost function gives us a metric to improve our model upon. Two very common cost functions for regression type problems include Root Mean Squared Error (RMSE) and Mean Squared Error (MSE). Lets focus on MSE for now since its a bit easier to work with. Solving a linear regression problem is really about finding the $\\theta s$ that minimize a cost function\n",
    "\n",
    "\n",
    "Lets take a quick look at 2 different ways of manually solving linear regression:\n",
    "\n",
    "- **Closed Form Approach** (directly solve for $\\theta s$ through an equation)\n",
    "- **Gradient Decent Approach** (itteretively minimize a cost function to arrive at $\\theta s$)"
   ]
  },
  {
   "cell_type": "markdown",
   "metadata": {},
   "source": [
    "### Closed Form Approach\n",
    "\n",
    "\n"
   ]
  },
  {
   "cell_type": "code",
   "execution_count": null,
   "metadata": {},
   "outputs": [],
   "source": []
  }
 ],
 "metadata": {
  "kernelspec": {
   "display_name": "Python 3",
   "language": "python",
   "name": "python3"
  },
  "language_info": {
   "codemirror_mode": {
    "name": "ipython",
    "version": 3
   },
   "file_extension": ".py",
   "mimetype": "text/x-python",
   "name": "python",
   "nbconvert_exporter": "python",
   "pygments_lexer": "ipython3",
   "version": "3.6.5"
  }
 },
 "nbformat": 4,
 "nbformat_minor": 2
}
