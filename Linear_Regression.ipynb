{
 "cells": [
  {
   "cell_type": "markdown",
   "metadata": {},
   "source": [
    "# Linear Regression\n",
    "\n",
    "Linear regression makes predictions of an output based on linear transformations of a given input data point (much like a weighted sum).\n",
    "\n",
    "$y = \\theta_{0} + \\theta_{1}x_{1} + \\theta_{2}x_{2} + ... + + \\theta_{n}x_{n}$\n",
    "\n",
    "The parameters of linear regression are the thetas (vector of numerical values) that determine the best fit line for the given data set. In the above equation, $\\theta_{0}$ is a bias term.\n",
    "\n",
    "\n",
    "Lets take a quick look at 2 different ways of solving linear regression:\n",
    "\n",
    "- **Closed Form Approach** (directly solve for best fit thetas through an equation)\n",
    "- **Gradient Decent Approach** (itteretively minimize a cost function to arrive at best fit thetas)"
   ]
  },
  {
   "cell_type": "markdown",
   "metadata": {},
   "source": [
    "### Closed Form Approach\n",
    "\n",
    "Lets start off by first defining a cost function. The cost function gives us a metric to improve upon. Two very common cost functions for regression type problems include Root Mean Squared Error (RMSE) and Mean Squared Error (MSE). Lets focus on MSE for now since its a bit easier to work with.\n"
   ]
  },
  {
   "cell_type": "code",
   "execution_count": null,
   "metadata": {},
   "outputs": [],
   "source": []
  }
 ],
 "metadata": {
  "kernelspec": {
   "display_name": "Python 3",
   "language": "python",
   "name": "python3"
  },
  "language_info": {
   "codemirror_mode": {
    "name": "ipython",
    "version": 3
   },
   "file_extension": ".py",
   "mimetype": "text/x-python",
   "name": "python",
   "nbconvert_exporter": "python",
   "pygments_lexer": "ipython3",
   "version": "3.6.5"
  }
 },
 "nbformat": 4,
 "nbformat_minor": 2
}
